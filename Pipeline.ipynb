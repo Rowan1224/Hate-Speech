{
 "cells": [
  {
   "cell_type": "code",
   "execution_count": 1,
   "id": "dd64341c",
   "metadata": {},
   "outputs": [],
   "source": [
    "import pandas as pd\n",
    "from torch.utils.data import Dataset, DataLoader\n",
    "import re\n",
    "from sklearn.feature_extraction.text import TfidfVectorizer\n",
    "import torch\n",
    "import numpy as np\n",
    "import torch.nn as nn\n",
    "import string\n",
    "from torch.utils.data import DataLoader, random_split\n",
    "import copy\n",
    "import matplotlib.pyplot as plt\n",
    "from nltk.corpus import stopwords"
   ]
  },
  {
   "cell_type": "markdown",
   "id": "9b9e8594",
   "metadata": {},
   "source": [
    "## Download glove Embedding"
   ]
  },
  {
   "cell_type": "code",
   "execution_count": 2,
   "id": "4dfa4ab8",
   "metadata": {},
   "outputs": [],
   "source": [
    "# # download glove embeddings from here https://nlp.stanford.edu/projects/glove/\n",
    "# !wget https://nlp.stanford.edu/data/glove.twitter.27B.zip\n",
    "# !unzip glove.twitter.27B.zip"
   ]
  },
  {
   "cell_type": "markdown",
   "id": "3a418aca",
   "metadata": {},
   "source": [
    "### Select Glove Embedding dimension and Maximum Sequence Length"
   ]
  },
  {
   "cell_type": "code",
   "execution_count": 3,
   "id": "f5dc8c52",
   "metadata": {},
   "outputs": [],
   "source": [
    "use_cuda = torch.cuda.is_available()\n",
    "device = torch.device(\"cuda:0\" if use_cuda else \"cpu\")\n",
    "\n",
    "EMB_DIMENSION = 200 ## avalable dimensions are 25, 50, 100, 200\n",
    "MAX_SEQ_LENGTH = 96\n",
    "VECTOR_PATH = f'./glove.twitter.27B/glove.twitter.27B.{EMB_DIMENSION}d.txt'\n",
    "\n"
   ]
  },
  {
   "cell_type": "markdown",
   "id": "71f3e9c7",
   "metadata": {},
   "source": [
    "### Dataset Class"
   ]
  },
  {
   "cell_type": "code",
   "execution_count": 4,
   "id": "f44e7d86",
   "metadata": {},
   "outputs": [],
   "source": [
    "class TwitterDataset(Dataset):\n",
    "\n",
    "    def __init__(self, data_dir, split='train'):\n",
    "        \"\"\"Initialize the attributes of the object of the class.\"\"\"\n",
    "        \n",
    "        # data directory\n",
    "        self.data_dir = data_dir\n",
    "        # train or test split\n",
    "        self.split = split\n",
    "        # load csv dataset  \n",
    "        self.df = pd.read_csv(f'{data_dir}/{split}.csv')\n",
    "\n",
    "        # for train dataset, converts the label into one-hot encoding\n",
    "        if self.split=='train':\n",
    "            self.labels = torch.nn.functional.one_hot(torch.tensor(self.df['label'].values))\n",
    "            \n",
    "        # load the glove embedding\n",
    "        self.vector_path = VECTOR_PATH\n",
    "        \n",
    "        # set the embedding dimension 50/100/300\n",
    "        self.emb_dimension = EMB_DIMENSION\n",
    "        \n",
    "        # set cuda device if available\n",
    "        self.device = device\n",
    "        \n",
    "        # set the maximum sequence length or max tweet length\n",
    "        self.max_seq_len = MAX_SEQ_LENGTH\n",
    "        \n",
    "        # create the vocabulary from the dataset\n",
    "        self.vocab = sorted(self._create_vocabulary())\n",
    "        \n",
    "        # map word or tokens to index \n",
    "        self.word_to_index = {word: idx+1 for idx, word in enumerate(sorted(self.vocab))}\n",
    "        \n",
    "        # set pad token index to 0\n",
    "        self.word_to_index['[PAD]'] = 0\n",
    "        self.word_to_index['[UNK]'] = len(self.vocab)+1\n",
    "        \n",
    "        # create the embedding vector\n",
    "        self.word_embeddings = self._create_embedding()\n",
    "        \n",
    "       \n",
    "        \n",
    "\n",
    "    def __len__(self):\n",
    "        \"\"\"Return the size of the dataset.\"\"\"\n",
    "        return self.df.shape[0]\n",
    "\n",
    "    def __getitem__(self, index):\n",
    "        \"\"\"Return a data sample for a given index, along with the lable of the corresponding tweet\"\"\"\n",
    "        \n",
    "        \n",
    "        # - get the data sample corresponding to 'index' (use the list 'self.image_path_list')\n",
    "        data_sample = self.df.iloc[index]\n",
    "        \n",
    "        # tokenize the tweet\n",
    "        tokens = self._tokenize_text(data_sample['tweet'])\n",
    "\n",
    "        # use the word_to_index mapping to transform the tokens into indices and save them into an IntTensor\n",
    "        x = torch.IntTensor([self.word_to_index[word] \n",
    "                             if word in self.word_to_index \n",
    "                             else self.word_to_index[\"[UNK]\"] \n",
    "                             for word in tokens])\n",
    "        \n",
    "        \n",
    "        # transform the variable to cuda or cpu\n",
    "        x = x.to(self.device)\n",
    "        \n",
    "        \n",
    "        if self.split=='train':\n",
    "            # get the index-th label and store it into a FloatTensor\n",
    "            y = self.labels[index].float()\n",
    "            # transform the variable to cuda or cpu\n",
    "            y = y.to(self.device)\n",
    "            # stores the text indices and the label into a dictionary\n",
    "            features = {'token_ids': x, 'labels': y}\n",
    "        \n",
    "        else:\n",
    "            #for test set only return the token ids\n",
    "            features = {'token_ids': x}\n",
    "        \n",
    "        return features\n",
    "\n",
    "    def _clean_data(self, data):\n",
    "        \n",
    "        \"\"\" Remove hyperlinks, mentions, hashtag from the data\n",
    "            convert to lowercase\n",
    "            remove non-ASCII characters\n",
    "            remove the @user tag\n",
    "            removing stopwords\n",
    "        \"\"\"\n",
    "        \n",
    "\n",
    "        data = data.lower()\n",
    "        data = re.sub(r'[^\\x00-\\x7F]+',' ', data)\n",
    "        data = re.sub(r\"@\\S*|#\\S*\",'',data)\n",
    "        lines = filter(lambda x: x[0]!= '@' , data.split())\n",
    "        lines = [word for word in lines if word not in set(stopwords.words('english'))]\n",
    "        data = \" \".join(lines)\n",
    "        \n",
    "    \n",
    "        return data\n",
    "              \n",
    "    \n",
    "    def _create_embedding(self):\n",
    "        \n",
    "        \"\"\"create a matrix containing word vectors\"\"\"\n",
    "\n",
    "        # load the glove embedding to a dict. token is the key and value is the vector\n",
    "        embeddings_index = {}\n",
    "        with open(self.vector_path,'r') as file:\n",
    "            embeddings_index = {line.split()[0]: np.asarray(line.split()[1], dtype='float32') for line in file}\n",
    "\n",
    "        # create the embedding matrix. keep the words that only present in the dataset. \n",
    "        # each row represent one vector\n",
    "        # row index is the word map index\n",
    "        embedding_matrix = np.zeros((len(self.word_to_index) + 2, self.emb_dimension))\n",
    "        for word, i in self.word_to_index.items():\n",
    "            embedding_vector = embeddings_index.get(word)\n",
    "            if embedding_vector is not None:\n",
    "                embedding_matrix[i] = embedding_vector\n",
    "                \n",
    "        embedding_matrix[len(self.vocab)+1] = torch.randn(self.emb_dimension)\n",
    "        return torch.tensor(embedding_matrix, device=self.device)\n",
    "        \n",
    "        \n",
    "    def _create_vocabulary(self):\n",
    "        \"\"\"Create a vocabulary of unique words from the given text files.\"\"\"\n",
    "        \n",
    "        \n",
    "        train_df = pd.read_csv(f'{self.data_dir}/train.csv')\n",
    "        all_texts = train_df['tweet'].values.tolist()\n",
    "        letters = string.ascii_lowercase\n",
    "        word_string = ' '.join(all_texts)\n",
    "        \n",
    "        word_string = self._clean_data(word_string)\n",
    "        \n",
    "        not_letters = set([char for char in word_string if char not in letters and char != ' '])\n",
    "        for char in not_letters:\n",
    "            word_string = word_string.replace(char, \" \")\n",
    "        vocab = set(word_string.split())\n",
    "        return list(vocab)\n",
    "\n",
    "    def _tokenize_text(self, tweet):\n",
    "        \"\"\"\n",
    "        Remove non-characters from the text and pads the text to max_seq_len.\n",
    "        *!* Padding is necessary for ensuring that all text_files have the same size\n",
    "        *!* This is required since DataLoader cannot handle tensors of variable length\n",
    "\n",
    "        Return a list of all tokens in the text\n",
    "        \"\"\"\n",
    "        \n",
    "        tweet = self._clean_data(tweet)\n",
    "        letters = string.ascii_lowercase\n",
    "        not_letters = set([char_ for char_ in tweet if char_ not in letters and char_ != ' '])\n",
    "        for char in not_letters:\n",
    "            tweet = tweet.replace(char, \" \")\n",
    "        tokens = tweet.split()\n",
    "        for i in range(self.max_seq_len - len(tokens)):\n",
    "            tokens.append('[PAD]')\n",
    "        return tokens\n",
    "            \n",
    "\n",
    "         "
   ]
  },
  {
   "cell_type": "markdown",
   "id": "b7fd764f",
   "metadata": {},
   "source": [
    "### Create Dataloaders"
   ]
  },
  {
   "cell_type": "code",
   "execution_count": 5,
   "id": "86900685",
   "metadata": {},
   "outputs": [],
   "source": [
    "dataset_train = TwitterDataset('dataset','train')\n",
    "# dataset_test = TwitterDataset('dataset','test')"
   ]
  },
  {
   "cell_type": "code",
   "execution_count": 6,
   "id": "a9a7ac12",
   "metadata": {},
   "outputs": [
    {
     "data": {
      "text/plain": [
       "31962"
      ]
     },
     "execution_count": 6,
     "metadata": {},
     "output_type": "execute_result"
    }
   ],
   "source": [
    "len(dataset_train)"
   ]
  },
  {
   "cell_type": "code",
   "execution_count": 7,
   "id": "2e71d350",
   "metadata": {},
   "outputs": [],
   "source": [
    "batch_size = 8\n",
    "train_dataloader = DataLoader(dataset_train, batch_size=batch_size, shuffle=True)\n",
    "# test_dataloader = DataLoader(dataset_test, batch_size=batch_size, shuffle=True)"
   ]
  },
  {
   "cell_type": "code",
   "execution_count": 8,
   "id": "ff0a0d26",
   "metadata": {},
   "outputs": [],
   "source": [
    "# First we define the validation set by splitting the training data into 2 subsets (90% training and 10% validation)\n",
    "n_train_examples = int(len(dataset_train)*0.70)\n",
    "n_test_examples = int(len(dataset_train)*0.20)\n",
    "n_valid_examples = len(dataset_train) - (n_train_examples+n_test_examples) \n",
    "train_data, valid_data, test_data = random_split(dataset_train, [n_train_examples,n_valid_examples,n_test_examples])\n",
    "\n",
    "\n",
    "# We also define the corresponding dataloaders\n",
    "train_dataloader = DataLoader(train_data, shuffle=True, batch_size=batch_size)\n",
    "valid_dataloader = DataLoader(valid_data, batch_size=batch_size)\n",
    "test_dataloader = DataLoader(test_data, batch_size=batch_size)"
   ]
  },
  {
   "cell_type": "code",
   "execution_count": 9,
   "id": "71d2afc9",
   "metadata": {},
   "outputs": [
    {
     "name": "stdout",
     "output_type": "stream",
     "text": [
      "Training Samples: 22373\n",
      "Test Samples: 6392\n",
      "validaion Samples: 3197\n"
     ]
    }
   ],
   "source": [
    "print(f\"Training Samples: {n_train_examples}\")\n",
    "print(f\"Test Samples: {n_test_examples}\")\n",
    "print(f\"validaion Samples: {n_valid_examples}\")"
   ]
  },
  {
   "cell_type": "code",
   "execution_count": 10,
   "id": "ee8510d5",
   "metadata": {},
   "outputs": [
    {
     "name": "stdout",
     "output_type": "stream",
     "text": [
      "torch.Size([8, 96])\n",
      "torch.Size([8, 2])\n"
     ]
    }
   ],
   "source": [
    "# print an example batch\n",
    "\n",
    "batch_example = next(iter(train_dataloader))\n",
    "tweet_batch_example = batch_example['token_ids']\n",
    "labels_batch_example = batch_example['labels']\n",
    "\n",
    "print(tweet_batch_example.shape)\n",
    "print(labels_batch_example.shape)"
   ]
  },
  {
   "cell_type": "markdown",
   "id": "524a8cc7",
   "metadata": {},
   "source": [
    "### Create LSTM and GRU model class"
   ]
  },
  {
   "cell_type": "code",
   "execution_count": 11,
   "id": "e7a5904a",
   "metadata": {},
   "outputs": [],
   "source": [
    "class LSTM(nn.Module):\n",
    "    def __init__(self, vocab_size, emb_dim, word_embeddings,\n",
    "                 max_sequence_length, num_layers, hidden_size, bidirectional, output_size, act_fn):\n",
    "        super(LSTM, self).__init__()\n",
    "        \n",
    "        # embedding layer: converts tokens ids with respectve word vec\n",
    "        self.input_layer = nn.Embedding(vocab_size, emb_dim, padding_idx=0)\n",
    "        self.input_layer.weight.data = word_embeddings\n",
    "        \n",
    "        # LSTM layer\n",
    "        self.lstm = nn.LSTM(input_size=emb_dim, hidden_size = hidden_size, \n",
    "                           num_layers = num_layers, \n",
    "                           bidirectional=bidirectional, batch_first=True)\n",
    "        \n",
    "        if bidirectional:\n",
    "            self.direction = 2\n",
    "        else:\n",
    "            self.direction = 1\n",
    "            \n",
    "        self.layers = num_layers\n",
    "        \n",
    "        use_cuda = torch.cuda.is_available()\n",
    "        self.device = torch.device(\"cuda:0\" if use_cuda else \"cpu\")\n",
    "            \n",
    "        self.hidden_size = hidden_size\n",
    "\n",
    "        # output layer\n",
    "        self.output_layer = nn.Sequential(nn.Linear(self.direction*hidden_size*max_sequence_length, output_size),act_fn)\n",
    "    \n",
    "    def forward(self, x):\n",
    "        \n",
    "        # get embedding \n",
    "        emb = self.input_layer(x)\n",
    "        \n",
    "        batch = x.shape[0]\n",
    "        # initialize a hidden state and cell state\n",
    "        h0,c0 = self.init_hidden(batch)\n",
    "        \n",
    "        # get output from lstm layers\n",
    "        l,_ = self.lstm(emb.float(),(h0,c0))\n",
    "        \n",
    "        # flatten the output\n",
    "        l = torch.reshape(l,(batch,-1))\n",
    "    \n",
    "        # get final class probabilities\n",
    "        out = self.output_layer(l)\n",
    "        \n",
    "        return out\n",
    "    \n",
    "    def init_hidden(self, batch_size):\n",
    "                \n",
    "        torch.manual_seed(0)\n",
    "        h0 = torch.randn(self.direction*self.layers, batch_size, self.hidden_size, device=self.device) \n",
    "        c0 = torch.randn(self.direction*self.layers, batch_size, self.hidden_size, device=self.device)\n",
    "\n",
    "        return h0,c0"
   ]
  },
  {
   "cell_type": "code",
   "execution_count": 12,
   "id": "99512c44",
   "metadata": {},
   "outputs": [],
   "source": [
    "class GRU(nn.Module):\n",
    "    def __init__(self, vocab_size, emb_dim, word_embeddings,\n",
    "                 max_sequence_length, num_layers, hidden_size, bidirectional, output_size, act_fn):\n",
    "        super(GRU, self).__init__()\n",
    "        \n",
    "        # embedding layer: converts tokens ids with respectve word vec\n",
    "        self.input_layer = nn.Embedding(vocab_size, emb_dim, padding_idx=0)\n",
    "        self.input_layer.weight.data = word_embeddings\n",
    "        \n",
    "        # LSTM layer\n",
    "        self.gru = nn.GRU(input_size=emb_dim, hidden_size = hidden_size, \n",
    "                           num_layers = num_layers, \n",
    "                           bidirectional=bidirectional, batch_first=True)\n",
    "        \n",
    "        if bidirectional:\n",
    "            self.direction = 2\n",
    "        else:\n",
    "            self.direction = 1\n",
    "            \n",
    "        self.layers = num_layers\n",
    "        \n",
    "        use_cuda = torch.cuda.is_available()\n",
    "        self.device = torch.device(\"cuda:0\" if use_cuda else \"cpu\")\n",
    "            \n",
    "        self.hidden_size = hidden_size\n",
    "\n",
    "        # output layer\n",
    "        self.output_layer = nn.Sequential(nn.Linear(self.direction*hidden_size*max_sequence_length, output_size),act_fn)\n",
    "    \n",
    "    def forward(self, x):\n",
    "        \n",
    "        # get embedding \n",
    "        emb = self.input_layer(x)\n",
    "        \n",
    "        batch = x.shape[0]\n",
    "        # initialize a hidden state and cell state\n",
    "        h0,c0 = self.init_hidden(batch)\n",
    "        \n",
    "        # get output from lstm layers\n",
    "        l,_ = self.gru(emb.float(),h0)\n",
    "        \n",
    "        # flatten the output\n",
    "        l = torch.reshape(l,(batch,-1))\n",
    "    \n",
    "        # get final class probabilities\n",
    "        out = self.output_layer(l)\n",
    "        \n",
    "        return out\n",
    "    \n",
    "    def init_hidden(self, batch_size):\n",
    "                \n",
    "        torch.manual_seed(0)\n",
    "        h0 = torch.randn(self.direction*self.layers, batch_size, self.hidden_size, device=self.device) \n",
    "        c0 = torch.randn(self.direction*self.layers, batch_size, self.hidden_size, device=self.device)\n",
    "\n",
    "        return h0,c0\n",
    "    "
   ]
  },
  {
   "cell_type": "markdown",
   "id": "dca02cf2",
   "metadata": {},
   "source": [
    "### Training and Evaluation Functions"
   ]
  },
  {
   "cell_type": "code",
   "execution_count": 13,
   "id": "7d759c15",
   "metadata": {},
   "outputs": [],
   "source": [
    "def evaluation(model, eval_dataloader):\n",
    "    \n",
    "    model = copy.deepcopy(model)\n",
    "    # Set the model in 'evaluation' mode (this disables some layers (batch norm, dropout...) which are not needed when testing)\n",
    "    model.eval() \n",
    "\n",
    "    # In evaluation phase, we don't need to compute gradients (for memory efficiency)\n",
    "    with torch.no_grad():\n",
    "        # initialize the total and correct number of labels to compute the accuracy\n",
    "        correct_labels = 0\n",
    "        total_labels = 0\n",
    "        \n",
    "        # Iterate over the dataset using the dataloader\n",
    "        for batch in eval_dataloader:\n",
    "\n",
    "            tweet = batch['token_ids']\n",
    "            labels = batch['labels']\n",
    "            # Get the predicted labels\n",
    "            y_predicted = model(tweet)\n",
    "            \n",
    "            # To get the predicted labels, we need to get the max over all possible classes\n",
    "            label_predicted = torch.argmax(y_predicted.data, 1)\n",
    "            labels = torch.argmax(labels, 1)\n",
    "            # Compute accuracy: count the total number of samples, and the correct labels (compare the true and predicted labels)\n",
    "            total_labels += labels.size(0)\n",
    "            correct_labels += (label_predicted == labels).sum().item()\n",
    "    \n",
    "    accuracy = 100 * correct_labels / total_labels\n",
    "    \n",
    "    return accuracy"
   ]
  },
  {
   "cell_type": "code",
   "execution_count": 14,
   "id": "5603f532",
   "metadata": {},
   "outputs": [],
   "source": [
    "\n",
    "def training(model, train_dataloader, valid_dataloader, num_epochs, loss_fn, learning_rate, verbose=True):\n",
    "\n",
    "    # Make a copy of the model (avoid changing the model outside this function)\n",
    "    model_tr = copy.deepcopy(model)\n",
    "    \n",
    "    \n",
    "    # Set the model in 'training' mode (ensures all parameters' gradients are computed - it's like setting 'requires_grad=True' for all parameters)\n",
    "    model_tr.train()\n",
    "    \n",
    "    # Define the optimizer\n",
    "    optimizer = torch.optim.Adam(model_tr.parameters(), lr=learning_rate)\n",
    "    \n",
    "    # Initialize lists to record the training loss over epochs\n",
    "    loss_all_epochs = []\n",
    "    val_loss_all_epochs = []\n",
    "    \n",
    "    best_accuracy = 0.0\n",
    "    \n",
    "    accuracy = []\n",
    "        \n",
    "    # Training loop\n",
    "    for epoch in range(num_epochs):\n",
    "        # Initialize the training loss for the current epoch\n",
    "        loss_current_epoch = 0\n",
    "        val_loss_epoch = 0\n",
    "        \n",
    "        # Iterate over batches using the dataloader\n",
    "        for batch_index, batch in enumerate(train_dataloader):\n",
    "            \n",
    "            label = batch['labels']\n",
    "\n",
    "            optimizer.zero_grad()\n",
    "            \n",
    "            out = model_tr.forward(batch['token_ids'])\n",
    "            l = loss_fn(out,label)\n",
    "            l.backward()\n",
    "            optimizer.step()\n",
    "            loss_current_epoch += (l.item())\n",
    "            \n",
    "        for batch_index, batch in enumerate(valid_dataloader):\n",
    "            label = batch['labels']\n",
    "            out = model_tr.forward(batch['token_ids'])\n",
    "            l = loss_fn(out,label)\n",
    "            val_loss_epoch += loss_fn(out,label).item()\n",
    "            \n",
    "            # - use the 'backward' method to compute the gradients\n",
    "            # - apply the gradient descent algorithm\n",
    "            # Also think of updating the loss at the current epoch\n",
    "\n",
    "\n",
    "        # At the end of each epoch, record and display the loss over all batches\n",
    "        loss_current_epoch = loss_current_epoch/len(train_dataloader)\n",
    "        val_loss_epoch = val_loss_epoch/len(valid_dataloader)\n",
    "        \n",
    "        loss_all_epochs.append(loss_current_epoch)\n",
    "        val_loss_all_epochs.append(val_loss_epoch)\n",
    "        \n",
    "        acc = evaluation(model_tr, valid_dataloader)\n",
    "        \n",
    "        accuracy.append(acc)\n",
    "        if acc > best_accuracy:\n",
    "            best_accuracy = acc\n",
    "            torch.save(model_tr.state_dict(), f'./models/model-{model.__class__.__name__}.pt')\n",
    "            \n",
    "        \n",
    "        \n",
    "        if verbose:\n",
    "            print(f'Epoch [{epoch+1}/{num_epochs}], Train Loss: {loss_current_epoch: .4f} Valid Loss: {val_loss_epoch: .4f}')\n",
    "        \n",
    "    return model_tr, loss_all_epochs, val_loss_all_epochs, accuracy\n"
   ]
  },
  {
   "cell_type": "markdown",
   "id": "e7eaa989",
   "metadata": {},
   "source": [
    "### Training Hyperparameters"
   ]
  },
  {
   "cell_type": "code",
   "execution_count": 15,
   "id": "5bcc9006",
   "metadata": {},
   "outputs": [],
   "source": [
    "#the vocab size that is built from train set\n",
    "vocab_size = len(dataset_train.vocab)\n",
    "# the embedding dimenstion 50/100/300\n",
    "emb_dim = EMB_DIMENSION\n",
    "# get the embedding matrix\n",
    "word_embeddings = dataset_train.word_embeddings\n",
    "# max sequence length\n",
    "max_sequence_length = MAX_SEQ_LENGTH\n",
    "\n",
    "#define lstm layers\n",
    "num_layers = 5\n",
    "#define hidden size\n",
    "hidden_size = 32\n",
    "#set if LSTM should be bidirectional \n",
    "bidirectional = True\n",
    "# output size i.e class size \n",
    "output_size = 2\n",
    "# activation function\n",
    "act_fn = nn.Softmax(dim=1)\n",
    "\n",
    "# since we have binary class, we select Binary cross entroppy loss\n",
    "loss_fn = nn.BCELoss()\n",
    "\n",
    "# number of epochs\n",
    "num_epochs = 5\n",
    "\n",
    "# learning rate\n",
    "learning_rate = 0.001\n",
    "\n",
    "\n"
   ]
  },
  {
   "cell_type": "markdown",
   "id": "115a1617",
   "metadata": {},
   "source": [
    "# Training LSTM"
   ]
  },
  {
   "cell_type": "code",
   "execution_count": 16,
   "id": "dafd3b81",
   "metadata": {},
   "outputs": [
    {
     "name": "stderr",
     "output_type": "stream",
     "text": [
      "/home/hossain/Lorraine/Course/Semester 3/Neural Network/Labs/env-nlp/lib/python3.10/site-packages/torch/nn/modules/rnn.py:769: UserWarning: RNN module weights are not part of single contiguous chunk of memory. This means they need to be compacted at every call, possibly greatly increasing memory usage. To compact weights again call flatten_parameters(). (Triggered internally at  ../aten/src/ATen/native/cudnn/RNN.cpp:968.)\n",
      "  result = _VF.lstm(input, hx, self._flat_weights, self.bias, self.num_layers,\n"
     ]
    },
    {
     "name": "stdout",
     "output_type": "stream",
     "text": [
      "Epoch [1/5], Train Loss:  0.2246 Valid Loss:  0.1960\n",
      "Epoch [2/5], Train Loss:  0.1244 Valid Loss:  0.1846\n",
      "Epoch [3/5], Train Loss:  0.0758 Valid Loss:  0.2116\n",
      "Epoch [4/5], Train Loss:  0.0522 Valid Loss:  0.2691\n",
      "Epoch [5/5], Train Loss:  0.0380 Valid Loss:  0.2816\n"
     ]
    }
   ],
   "source": [
    "# create a RNN  model instance. REMARK: remove .cuda() at the end if gpu is not available\n",
    "if device!='cpu':\n",
    "    lstm = LSTM(vocab_size, emb_dim, word_embeddings, max_sequence_length, \n",
    "              num_layers,hidden_size, bidirectional, output_size, act_fn).cuda()\n",
    "else:\n",
    "    lstm = LSTM(vocab_size, emb_dim, word_embeddings, max_sequence_length, \n",
    "              num_layers,hidden_size, bidirectional, output_size, act_fn)\n",
    "\n",
    "\n",
    "# train model\n",
    "model_tr_lstm, lstm_loss_all_epochs, lstm_val_loss_all_epochs, lstm_accuracy = training(lstm, \n",
    "                                                                                   train_dataloader, \n",
    "                                                                                   valid_dataloader,\n",
    "                                                                                   num_epochs, \n",
    "                                                                                   loss_fn, learning_rate)\n"
   ]
  },
  {
   "cell_type": "markdown",
   "id": "56a73d3a",
   "metadata": {},
   "source": [
    "# Visualization LSTM "
   ]
  },
  {
   "cell_type": "code",
   "execution_count": 17,
   "id": "91253967",
   "metadata": {},
   "outputs": [
    {
     "data": {
      "image/png": "[encoded data removed]",
      "text/plain": [
       "<Figure size 640x480 with 1 Axes>"
      ]
     },
     "metadata": {},
     "output_type": "display_data"
    }
   ],
   "source": [
    "plt.figure()\n",
    "epochs = [i for i in range(num_epochs)]\n",
    "plt.plot(epochs, lstm_loss_all_epochs, 'r', label='Train Loss')\n",
    "plt.plot(epochs, lstm_val_loss_all_epochs, 'b', label='Validaiton Loss')\n",
    "plt.xlabel('epochs'), plt.ylabel('loss')\n",
    "plt.legend()\n",
    "plt.show()"
   ]
  },
  {
   "cell_type": "markdown",
   "id": "5551bfec",
   "metadata": {},
   "source": [
    "# Training GRU"
   ]
  },
  {
   "cell_type": "code",
   "execution_count": 18,
   "id": "c75ad030",
   "metadata": {},
   "outputs": [
    {
     "name": "stderr",
     "output_type": "stream",
     "text": [
      "/home/hossain/Lorraine/Course/Semester 3/Neural Network/Labs/env-nlp/lib/python3.10/site-packages/torch/nn/modules/rnn.py:950: UserWarning: RNN module weights are not part of single contiguous chunk of memory. This means they need to be compacted at every call, possibly greatly increasing memory usage. To compact weights again call flatten_parameters(). (Triggered internally at  ../aten/src/ATen/native/cudnn/RNN.cpp:968.)\n",
      "  result = _VF.gru(input, hx, self._flat_weights, self.bias, self.num_layers,\n"
     ]
    },
    {
     "name": "stdout",
     "output_type": "stream",
     "text": [
      "Epoch [1/5], Train Loss:  0.2166 Valid Loss:  0.1796\n",
      "Epoch [2/5], Train Loss:  0.1146 Valid Loss:  0.2094\n",
      "Epoch [3/5], Train Loss:  0.0682 Valid Loss:  0.2644\n",
      "Epoch [4/5], Train Loss:  0.0434 Valid Loss:  0.3492\n",
      "Epoch [5/5], Train Loss:  0.0283 Valid Loss:  0.3575\n"
     ]
    }
   ],
   "source": [
    "if device!='cpu':\n",
    "    gru = GRU(vocab_size, emb_dim, word_embeddings, max_sequence_length, \n",
    "          num_layers, hidden_size, bidirectional, output_size, act_fn).cuda()\n",
    "else:\n",
    "    gru = GRU(vocab_size, emb_dim, word_embeddings, max_sequence_length, \n",
    "          num_layers, hidden_size, bidirectional, output_size, act_fn)\n",
    "\n",
    "# since we have binary class, we select Binary cross entroppy loss\n",
    "loss_fn = nn.BCELoss()\n",
    "# number of epochs\n",
    "num_epochs = 5\n",
    "\n",
    "# learning rate\n",
    "learning_rate = 0.001\n",
    "\n",
    "# train model\n",
    "model_tr_gru, gru_loss_all_epochs, gru_val_loss_all_epochs, gru_accuracy = training(gru, \n",
    "                                                                                train_dataloader, \n",
    "                                                                                valid_dataloader, \n",
    "                                                                                num_epochs, loss_fn, learning_rate)\n"
   ]
  },
  {
   "cell_type": "markdown",
   "id": "1a39caf7",
   "metadata": {},
   "source": [
    "# Visualization GRU "
   ]
  },
  {
   "cell_type": "code",
   "execution_count": 19,
   "id": "1e748c8f",
   "metadata": {},
   "outputs": [
    {
     "data": {
      "image/png": "[encoded data removed]",
      "text/plain": [
       "<Figure size 640x480 with 1 Axes>"
      ]
     },
     "metadata": {},
     "output_type": "display_data"
    }
   ],
   "source": [
    "plt.figure()\n",
    "epochs = [i for i in range(num_epochs)]\n",
    "plt.plot(epochs, gru_loss_all_epochs, 'r', label='Train Loss')\n",
    "plt.plot(epochs, gru_val_loss_all_epochs, 'b', label='Validaiton Loss')\n",
    "plt.xlabel('epochs'), plt.ylabel('loss')\n",
    "plt.legend()\n",
    "plt.show()"
   ]
  },
  {
   "cell_type": "markdown",
   "id": "70927c75",
   "metadata": {},
   "source": [
    "# Evaluation on Test Set"
   ]
  },
  {
   "cell_type": "code",
   "execution_count": 25,
   "id": "527ebe1f",
   "metadata": {},
   "outputs": [],
   "source": [
    "best_lstm = LSTM(vocab_size, emb_dim, word_embeddings, max_sequence_length, \n",
    "          num_layers,hidden_size, bidirectional, output_size, act_fn).cuda()\n",
    "best_lstm.load_state_dict(torch.load(f'./models/model-{best_lstm.__class__.__name__}.pt'))\n",
    "best_lstm.eval()\n",
    "acc_lstm = evaluation(best_lstm, test_dataloader)"
   ]
  },
  {
   "cell_type": "code",
   "execution_count": 21,
   "id": "2287cd6b",
   "metadata": {},
   "outputs": [
    {
     "name": "stdout",
     "output_type": "stream",
     "text": [
      "Accuracy LSTM:  94.68\n"
     ]
    }
   ],
   "source": [
    "print(f'Accuracy LSTM: {acc_lstm: .2f}')"
   ]
  },
  {
   "cell_type": "code",
   "execution_count": 26,
   "id": "3f245264",
   "metadata": {},
   "outputs": [],
   "source": [
    "best_gru = GRU(vocab_size, emb_dim, word_embeddings, max_sequence_length, \n",
    "          num_layers,hidden_size, bidirectional, output_size, act_fn).cuda()\n",
    "best_gru.load_state_dict(torch.load(f'./models/model-{best_gru.__class__.__name__}.pt'))\n",
    "best_gru.eval()\n",
    "acc_gru = evaluation(best_gru, test_dataloader)"
   ]
  },
  {
   "cell_type": "code",
   "execution_count": 23,
   "id": "5e2371e4",
   "metadata": {},
   "outputs": [
    {
     "name": "stdout",
     "output_type": "stream",
     "text": [
      "Accuracy GRU:  94.79\n"
     ]
    }
   ],
   "source": [
    "print(f'Accuracy GRU: {acc_gru: .2f}')"
   ]
  },
  {
   "cell_type": "code",
   "execution_count": null,
   "id": "526fc9a5",
   "metadata": {},
   "outputs": [],
   "source": []
  }
 ],
 "metadata": {
  "kernelspec": {
   "display_name": "env-nlp",
   "language": "python",
   "name": "env-nlp"
  },
  "language_info": {
   "codemirror_mode": {
    "name": "ipython",
    "version": 3
   },
   "file_extension": ".py",
   "mimetype": "text/x-python",
   "name": "python",
   "nbconvert_exporter": "python",
   "pygments_lexer": "ipython3",
   "version": "3.10.6"
  }
 },
 "nbformat": 4,
 "nbformat_minor": 5
}
