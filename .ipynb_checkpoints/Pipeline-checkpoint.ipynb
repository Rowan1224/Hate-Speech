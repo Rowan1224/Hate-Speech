{
 "cells": [
  {
   "cell_type": "code",
   "execution_count": 2,
   "id": "dd64341c",
   "metadata": {},
   "outputs": [],
   "source": [
    "import pandas as pd\n",
    "from torch.utils.data import Dataset, DataLoader\n",
    "import re\n",
    "from sklearn.feature_extraction.text import TfidfVectorizer\n",
    "import torch\n",
    "import numpy as np\n",
    "import torch.nn as nn\n",
    "from nltk.corpus import stopwords"
   ]
  },
  {
   "cell_type": "code",
   "execution_count": 3,
   "id": "675c4b8c",
   "metadata": {},
   "outputs": [],
   "source": [
    "train = pd.read_csv('dataset/train.csv')"
   ]
  },
  {
   "cell_type": "code",
   "execution_count": 8,
   "id": "f44e7d86",
   "metadata": {},
   "outputs": [],
   "source": [
    "class TwitterDataset(Dataset):\n",
    "\n",
    "    def __init__(self, data_dir, split='train', feature ='tf-idf'):\n",
    "        \"\"\"Initialize the attributes of the object of the class.\"\"\"\n",
    "        \n",
    "        self.data_dir = data_dir\n",
    "        self.split = split\n",
    "        self.df = pd.read_csv(f'{data_dir}/{split}.csv')\n",
    "        self.feature = feature\n",
    "        self.extractor = self._feature_extractor(self.df,feature)\n",
    "\n",
    "    def __len__(self):\n",
    "        \"\"\"Return the size of the dataset.\"\"\"\n",
    "        return self.df.shape[0]\n",
    "\n",
    "    def __getitem__(self, index):\n",
    "        \"\"\"Return a data sample for a given index, along with the lable of the corresponding tweet\"\"\"\n",
    "        \n",
    "        \n",
    "        # - get the image path corresponding to 'index' (use the list 'self.image_path_list')\n",
    "        data_sample = self.df.iloc[index]\n",
    "        \n",
    "        #remove noise        \n",
    "        cleaned_data = self._clean_data(data_sample['tweet'])\n",
    "        \n",
    "        #extract features\n",
    "        features = self._extract_feature([cleaned_data])\n",
    "        \n",
    "        #get one-hot encoded label\n",
    "        if self.split =='train':\n",
    "            label = torch.nn.functional.one_hot(torch.tensor(self.df['label'].values))[index]\n",
    "            \n",
    "            return cleaned_data, features, label\n",
    "        \n",
    "        else:\n",
    "            return cleaned_data, features\n",
    "\n",
    "    def _clean_data(self, data):\n",
    "        \n",
    "        \"\"\" Remove hyperlinks, mentions, hashtag from the data\n",
    "            convert to lowercase\n",
    "            remove non-ASCII characters\n",
    "            remove the @user tag\n",
    "            removing stopwords\n",
    "        \"\"\"\n",
    "        \n",
    "        #TO DO: add more\n",
    "        data = data.lower()\n",
    "        data = re.sub(r'[^\\x00-\\x7F]+',' ', data)\n",
    "        data = re.sub(r\"@\\S*|#\\S*\",'',data)\n",
    "        lines = filter(lambda x: x[0]!= '@' , data.split())\n",
    "        lines = [word for word in lines if word not in set(stopwords.words('english'))]\n",
    "        data = \" \".join(lines)\n",
    "        return data\n",
    "              \n",
    "    \n",
    "    def _extract_feature(self,data):\n",
    "        \n",
    "        #To DO add glove and BERT feature extractor\n",
    "        \n",
    "        if self.feature =='tf-idf':\n",
    "            \n",
    "            features = self.extractor.transform(data).toarray()\n",
    "            \n",
    "\n",
    "            return torch.tensor(features)\n",
    "\n",
    "        \n",
    "    def _feature_extractor(self,df,feature):\n",
    "        \n",
    "        \n",
    "        if feature =='tf-idf':\n",
    "            extractor = TfidfVectorizer()\n",
    "            return extractor.fit(df['tweet'].values)\n",
    "            \n",
    "\n",
    "         "
   ]
  },
  {
   "cell_type": "code",
   "execution_count": 9,
   "id": "86900685",
   "metadata": {},
   "outputs": [],
   "source": [
    "dataset_train = TwitterDataset('dataset','train','tf-idf')\n",
    "dataset_test = TwitterDataset('dataset','test','tf-idf')"
   ]
  },
  {
   "cell_type": "code",
   "execution_count": 10,
   "id": "a9a7ac12",
   "metadata": {},
   "outputs": [
    {
     "data": {
      "text/plain": [
       "31962"
      ]
     },
     "execution_count": 10,
     "metadata": {},
     "output_type": "execute_result"
    }
   ],
   "source": [
    "len(dataset_train)"
   ]
  },
  {
   "cell_type": "code",
   "execution_count": 11,
   "id": "809273f7",
   "metadata": {},
   "outputs": [
    {
     "data": {
      "text/plain": [
       "torch.Size([1, 41392])"
      ]
     },
     "execution_count": 11,
     "metadata": {},
     "output_type": "execute_result"
    }
   ],
   "source": [
    "text, feature , label = dataset_train[158]\n",
    "feature.shape"
   ]
  },
  {
   "cell_type": "code",
   "execution_count": 12,
   "id": "2e71d350",
   "metadata": {},
   "outputs": [],
   "source": [
    "batch_size = 8\n",
    "train_dataloader = DataLoader(dataset_train, batch_size=batch_size, shuffle=True)\n",
    "test_dataloader = DataLoader(dataset_test, batch_size=batch_size, shuffle=True)"
   ]
  },
  {
   "cell_type": "code",
   "execution_count": 13,
   "id": "ee8510d5",
   "metadata": {},
   "outputs": [
    {
     "name": "stdout",
     "output_type": "stream",
     "text": [
      "torch.Size([8, 1, 41392])\n",
      "torch.Size([8, 2])\n"
     ]
    }
   ],
   "source": [
    "batch_example = next(iter(train_dataloader))\n",
    "tweet_batch_example = batch_example[1]\n",
    "labels_batch_example = batch_example[2]\n",
    "\n",
    "print(tweet_batch_example.shape)\n",
    "print(labels_batch_example.shape)"
   ]
  },
  {
   "cell_type": "code",
   "execution_count": 14,
   "id": "e7a5904a",
   "metadata": {},
   "outputs": [],
   "source": [
    "class RNN(nn.Module):\n",
    "    def __init__(self, input_size, number_layers ,hidden_size, output_size, act_fn):\n",
    "        super(Classifier, self).__init__()\n",
    "        \n",
    "        self.input_layer = nn.Sequential(nn.Linear(input_size, hidden_size), act_fn)\n",
    "        self.hidden_layers = nn.ModuleList([nn.Sequential(nn.Linear(hidden_size, hidden_size), act_fn) for i in range(number_layers)])\n",
    "        self.output_layer = nn.Linear(hidden_size, output_size)\n",
    "    \n",
    "    def forward(self, x):\n",
    "        \n",
    "        y = self.input_layer(x)\n",
    "        \n",
    "        for hidden in self.hidden_layers:\n",
    "            y = hidden(y)\n",
    "            \n",
    "        out = self.output_layer(y)\n",
    "        return out\n"
   ]
  },
  {
   "cell_type": "code",
   "execution_count": 15,
   "id": "7b38e57d",
   "metadata": {},
   "outputs": [
    {
     "ename": "RuntimeError",
     "evalue": "expected scalar type Double but found Float",
     "output_type": "error",
     "traceback": [
      "\u001b[0;31m---------------------------------------------------------------------------\u001b[0m",
      "\u001b[0;31mRuntimeError\u001b[0m                              Traceback (most recent call last)",
      "\u001b[0;32m/var/folders/th/4bp6hjf97sd0vs39m4d1x7ww0000gn/T/ipykernel_68048/3232364771.py\u001b[0m in \u001b[0;36m<module>\u001b[0;34m\u001b[0m\n\u001b[1;32m      3\u001b[0m \u001b[0mh0\u001b[0m \u001b[0;34m=\u001b[0m \u001b[0mtorch\u001b[0m\u001b[0;34m.\u001b[0m\u001b[0mrandn\u001b[0m\u001b[0;34m(\u001b[0m\u001b[0;36m2\u001b[0m\u001b[0;34m*\u001b[0m\u001b[0;36m5\u001b[0m\u001b[0;34m,\u001b[0m \u001b[0;36m1\u001b[0m\u001b[0;34m,\u001b[0m \u001b[0;36m10\u001b[0m\u001b[0;34m)\u001b[0m \u001b[0;31m## total layers = 5, bidirectional = True,hence 2*5\u001b[0m\u001b[0;34m\u001b[0m\u001b[0;34m\u001b[0m\u001b[0m\n\u001b[1;32m      4\u001b[0m \u001b[0mc0\u001b[0m \u001b[0;34m=\u001b[0m \u001b[0mtorch\u001b[0m\u001b[0;34m.\u001b[0m\u001b[0mrandn\u001b[0m\u001b[0;34m(\u001b[0m\u001b[0;36m2\u001b[0m\u001b[0;34m*\u001b[0m\u001b[0;36m5\u001b[0m\u001b[0;34m,\u001b[0m \u001b[0;36m1\u001b[0m\u001b[0;34m,\u001b[0m \u001b[0;36m10\u001b[0m\u001b[0;34m)\u001b[0m \u001b[0;31m## total layers = 5, bidirectional = True,hence 2*5\u001b[0m\u001b[0;34m\u001b[0m\u001b[0;34m\u001b[0m\u001b[0m\n\u001b[0;32m----> 5\u001b[0;31m \u001b[0moutput\u001b[0m\u001b[0;34m,\u001b[0m \u001b[0;34m(\u001b[0m\u001b[0mhn\u001b[0m\u001b[0;34m,\u001b[0m \u001b[0mcn\u001b[0m\u001b[0;34m)\u001b[0m \u001b[0;34m=\u001b[0m \u001b[0mrnn\u001b[0m\u001b[0;34m(\u001b[0m\u001b[0minput\u001b[0m\u001b[0;34m,\u001b[0m \u001b[0;34m(\u001b[0m\u001b[0mh0\u001b[0m\u001b[0;34m,\u001b[0m \u001b[0mc0\u001b[0m\u001b[0;34m)\u001b[0m\u001b[0;34m)\u001b[0m\u001b[0;34m\u001b[0m\u001b[0;34m\u001b[0m\u001b[0m\n\u001b[0m\u001b[1;32m      6\u001b[0m \u001b[0;34m\u001b[0m\u001b[0m\n\u001b[1;32m      7\u001b[0m \u001b[0moutput\u001b[0m\u001b[0;34m.\u001b[0m\u001b[0mshape\u001b[0m\u001b[0;34m\u001b[0m\u001b[0;34m\u001b[0m\u001b[0m\n",
      "\u001b[0;32m/usr/local/Cellar/jupyterlab/3.1.10/libexec/lib/python3.9/site-packages/torch/nn/modules/module.py\u001b[0m in \u001b[0;36m_call_impl\u001b[0;34m(self, *input, **kwargs)\u001b[0m\n\u001b[1;32m   1100\u001b[0m         if not (self._backward_hooks or self._forward_hooks or self._forward_pre_hooks or _global_backward_hooks\n\u001b[1;32m   1101\u001b[0m                 or _global_forward_hooks or _global_forward_pre_hooks):\n\u001b[0;32m-> 1102\u001b[0;31m             \u001b[0;32mreturn\u001b[0m \u001b[0mforward_call\u001b[0m\u001b[0;34m(\u001b[0m\u001b[0;34m*\u001b[0m\u001b[0minput\u001b[0m\u001b[0;34m,\u001b[0m \u001b[0;34m**\u001b[0m\u001b[0mkwargs\u001b[0m\u001b[0;34m)\u001b[0m\u001b[0;34m\u001b[0m\u001b[0;34m\u001b[0m\u001b[0m\n\u001b[0m\u001b[1;32m   1103\u001b[0m         \u001b[0;31m# Do not call functions when jit is used\u001b[0m\u001b[0;34m\u001b[0m\u001b[0;34m\u001b[0m\u001b[0m\n\u001b[1;32m   1104\u001b[0m         \u001b[0mfull_backward_hooks\u001b[0m\u001b[0;34m,\u001b[0m \u001b[0mnon_full_backward_hooks\u001b[0m \u001b[0;34m=\u001b[0m \u001b[0;34m[\u001b[0m\u001b[0;34m]\u001b[0m\u001b[0;34m,\u001b[0m \u001b[0;34m[\u001b[0m\u001b[0;34m]\u001b[0m\u001b[0;34m\u001b[0m\u001b[0;34m\u001b[0m\u001b[0m\n",
      "\u001b[0;32m/usr/local/Cellar/jupyterlab/3.1.10/libexec/lib/python3.9/site-packages/torch/nn/modules/rnn.py\u001b[0m in \u001b[0;36mforward\u001b[0;34m(self, input, hx)\u001b[0m\n\u001b[1;32m    689\u001b[0m         \u001b[0mself\u001b[0m\u001b[0;34m.\u001b[0m\u001b[0mcheck_forward_args\u001b[0m\u001b[0;34m(\u001b[0m\u001b[0minput\u001b[0m\u001b[0;34m,\u001b[0m \u001b[0mhx\u001b[0m\u001b[0;34m,\u001b[0m \u001b[0mbatch_sizes\u001b[0m\u001b[0;34m)\u001b[0m\u001b[0;34m\u001b[0m\u001b[0;34m\u001b[0m\u001b[0m\n\u001b[1;32m    690\u001b[0m         \u001b[0;32mif\u001b[0m \u001b[0mbatch_sizes\u001b[0m \u001b[0;32mis\u001b[0m \u001b[0;32mNone\u001b[0m\u001b[0;34m:\u001b[0m\u001b[0;34m\u001b[0m\u001b[0;34m\u001b[0m\u001b[0m\n\u001b[0;32m--> 691\u001b[0;31m             result = _VF.lstm(input, hx, self._flat_weights, self.bias, self.num_layers,\n\u001b[0m\u001b[1;32m    692\u001b[0m                               self.dropout, self.training, self.bidirectional, self.batch_first)\n\u001b[1;32m    693\u001b[0m         \u001b[0;32melse\u001b[0m\u001b[0;34m:\u001b[0m\u001b[0;34m\u001b[0m\u001b[0;34m\u001b[0m\u001b[0m\n",
      "\u001b[0;31mRuntimeError\u001b[0m: expected scalar type Double but found Float"
     ]
    }
   ],
   "source": [
    "rnn = nn.LSTM(input_size=tweet_batch_example.shape[-1], hidden_size = 10, num_layers = 5, bidirectional=True)\n",
    "input = tweet_batch_example \n",
    "h0 = torch.randn(2*5, 1, 10) ## total layers = 5, bidirectional = True,hence 2*5\n",
    "c0 = torch.randn(2*5, 1, 10) ## total layers = 5, bidirectional = True,hence 2*5\n",
    "output, (hn, cn) = rnn(input, (h0, c0))\n",
    "\n",
    "output.shape"
   ]
  },
  {
   "cell_type": "code",
   "execution_count": null,
   "id": "adfe7b73",
   "metadata": {},
   "outputs": [],
   "source": []
  }
 ],
 "metadata": {
  "kernelspec": {
   "display_name": "Python 3 (ipykernel)",
   "language": "python",
   "name": "python3"
  },
  "language_info": {
   "codemirror_mode": {
    "name": "ipython",
    "version": 3
   },
   "file_extension": ".py",
   "mimetype": "text/x-python",
   "name": "python",
   "nbconvert_exporter": "python",
   "pygments_lexer": "ipython3",
   "version": "3.9.7"
  }
 },
 "nbformat": 4,
 "nbformat_minor": 5
}
